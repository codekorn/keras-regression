{
 "cells": [
  {
   "cell_type": "markdown",
   "id": "17d648bb",
   "metadata": {},
   "source": [
    "# Part 1 "
   ]
  },
  {
   "cell_type": "markdown",
   "id": "b624d614",
   "metadata": {},
   "source": [
    "<h3>Import necessary libraries</h3>"
   ]
  },
  {
   "cell_type": "code",
   "execution_count": 2,
   "id": "b39d5182",
   "metadata": {},
   "outputs": [],
   "source": [
    "# import numpy\n",
    "import numpy as np\n",
    "# import pandas\n",
    "import pandas as pd\n",
    "# import keras\n",
    "from keras.models import Sequential\n",
    "from keras.layers import Dense\n",
    "# import train_test_split\n",
    "from sklearn.model_selection import train_test_split\n",
    "# import mean_squared_error \n",
    "from sklearn.metrics import mean_squared_error"
   ]
  },
  {
   "cell_type": "markdown",
   "id": "17b5fb5d",
   "metadata": {},
   "source": [
    "### Gather and prepare data"
   ]
  },
  {
   "cell_type": "code",
   "execution_count": 3,
   "id": "32a19379",
   "metadata": {},
   "outputs": [
    {
     "data": {
      "text/html": [
       "<div>\n",
       "<style scoped>\n",
       "    .dataframe tbody tr th:only-of-type {\n",
       "        vertical-align: middle;\n",
       "    }\n",
       "\n",
       "    .dataframe tbody tr th {\n",
       "        vertical-align: top;\n",
       "    }\n",
       "\n",
       "    .dataframe thead th {\n",
       "        text-align: right;\n",
       "    }\n",
       "</style>\n",
       "<table border=\"1\" class=\"dataframe\">\n",
       "  <thead>\n",
       "    <tr style=\"text-align: right;\">\n",
       "      <th></th>\n",
       "      <th>Cement</th>\n",
       "      <th>Blast Furnace Slag</th>\n",
       "      <th>Fly Ash</th>\n",
       "      <th>Water</th>\n",
       "      <th>Superplasticizer</th>\n",
       "      <th>Coarse Aggregate</th>\n",
       "      <th>Fine Aggregate</th>\n",
       "      <th>Age</th>\n",
       "      <th>Strength</th>\n",
       "    </tr>\n",
       "  </thead>\n",
       "  <tbody>\n",
       "    <tr>\n",
       "      <th>0</th>\n",
       "      <td>540.0</td>\n",
       "      <td>0.0</td>\n",
       "      <td>0.0</td>\n",
       "      <td>162.0</td>\n",
       "      <td>2.5</td>\n",
       "      <td>1040.0</td>\n",
       "      <td>676.0</td>\n",
       "      <td>28</td>\n",
       "      <td>79.99</td>\n",
       "    </tr>\n",
       "    <tr>\n",
       "      <th>1</th>\n",
       "      <td>540.0</td>\n",
       "      <td>0.0</td>\n",
       "      <td>0.0</td>\n",
       "      <td>162.0</td>\n",
       "      <td>2.5</td>\n",
       "      <td>1055.0</td>\n",
       "      <td>676.0</td>\n",
       "      <td>28</td>\n",
       "      <td>61.89</td>\n",
       "    </tr>\n",
       "    <tr>\n",
       "      <th>2</th>\n",
       "      <td>332.5</td>\n",
       "      <td>142.5</td>\n",
       "      <td>0.0</td>\n",
       "      <td>228.0</td>\n",
       "      <td>0.0</td>\n",
       "      <td>932.0</td>\n",
       "      <td>594.0</td>\n",
       "      <td>270</td>\n",
       "      <td>40.27</td>\n",
       "    </tr>\n",
       "    <tr>\n",
       "      <th>3</th>\n",
       "      <td>332.5</td>\n",
       "      <td>142.5</td>\n",
       "      <td>0.0</td>\n",
       "      <td>228.0</td>\n",
       "      <td>0.0</td>\n",
       "      <td>932.0</td>\n",
       "      <td>594.0</td>\n",
       "      <td>365</td>\n",
       "      <td>41.05</td>\n",
       "    </tr>\n",
       "    <tr>\n",
       "      <th>4</th>\n",
       "      <td>198.6</td>\n",
       "      <td>132.4</td>\n",
       "      <td>0.0</td>\n",
       "      <td>192.0</td>\n",
       "      <td>0.0</td>\n",
       "      <td>978.4</td>\n",
       "      <td>825.5</td>\n",
       "      <td>360</td>\n",
       "      <td>44.30</td>\n",
       "    </tr>\n",
       "  </tbody>\n",
       "</table>\n",
       "</div>"
      ],
      "text/plain": [
       "   Cement  Blast Furnace Slag  Fly Ash  Water  Superplasticizer  \\\n",
       "0   540.0                 0.0      0.0  162.0               2.5   \n",
       "1   540.0                 0.0      0.0  162.0               2.5   \n",
       "2   332.5               142.5      0.0  228.0               0.0   \n",
       "3   332.5               142.5      0.0  228.0               0.0   \n",
       "4   198.6               132.4      0.0  192.0               0.0   \n",
       "\n",
       "   Coarse Aggregate  Fine Aggregate  Age  Strength  \n",
       "0            1040.0           676.0   28     79.99  \n",
       "1            1055.0           676.0   28     61.89  \n",
       "2             932.0           594.0  270     40.27  \n",
       "3             932.0           594.0  365     41.05  \n",
       "4             978.4           825.5  360     44.30  "
      ]
     },
     "execution_count": 3,
     "metadata": {},
     "output_type": "execute_result"
    }
   ],
   "source": [
    "# read data and show head\n",
    "df = pd.read_csv('concrete_data.csv')\n",
    "df.head()"
   ]
  },
  {
   "cell_type": "code",
   "execution_count": 4,
   "id": "b27062bf",
   "metadata": {},
   "outputs": [],
   "source": [
    "# filter the features or X\n",
    "features = df.loc[:, df.columns != 'Strength']\n",
    "# filter the target or y\n",
    "target = df['Strength']"
   ]
  },
  {
   "cell_type": "code",
   "execution_count": 5,
   "id": "d7d69cce",
   "metadata": {},
   "outputs": [],
   "source": [
    "# input amount\n",
    "n_cols = features.shape[1]"
   ]
  },
  {
   "cell_type": "markdown",
   "id": "f1876e08",
   "metadata": {},
   "source": [
    "### Prepare model"
   ]
  },
  {
   "cell_type": "code",
   "execution_count": 6,
   "id": "1751adb5",
   "metadata": {},
   "outputs": [],
   "source": [
    "def regression_model(hidden_layers = 1):\n",
    "    # create model\n",
    "    model = Sequential()\n",
    "    model.add(Dense(10, activation='relu', input_shape=(n_cols,)))\n",
    "    # add layers\n",
    "    while hidden_layers > 1:\n",
    "        hidden_layers -= 1\n",
    "        model.add(Dense(10, activation='relu'))\n",
    "    model.add(Dense(1))\n",
    "    \n",
    "    # compile model\n",
    "    model.compile(optimizer='adam', loss='mean_squared_error')\n",
    "    return model"
   ]
  },
  {
   "cell_type": "markdown",
   "id": "ad0da72f",
   "metadata": {},
   "source": [
    "### Fit and predict model"
   ]
  },
  {
   "cell_type": "code",
   "execution_count": 9,
   "id": "958f4831",
   "metadata": {},
   "outputs": [
    {
     "name": "stderr",
     "output_type": "stream",
     "text": [
      "2021-12-17 14:01:27.269730: I tensorflow/core/platform/cpu_feature_guard.cc:151] This TensorFlow binary is optimized with oneAPI Deep Neural Network Library (oneDNN) to use the following CPU instructions in performance-critical operations:  AVX2 FMA\n",
      "To enable them in other operations, rebuild TensorFlow with the appropriate compiler flags.\n"
     ]
    }
   ],
   "source": [
    "# create numpy array for thge mean squared error\n",
    "mse = np.array([])\n",
    "# repeat the process 50 times\n",
    "for i in range(50):\n",
    "    # split the data into train and test\n",
    "    X_train, X_test, y_train, y_test = train_test_split(features, target,\n",
    "                                                        test_size=0.3)\n",
    "    # build fit and predict with the model\n",
    "    model = regression_model()\n",
    "    model.fit(X_train, y_train, epochs=50, verbose = 0)\n",
    "    y_pred = model.predict(X_test)\n",
    "    # calculate the mean squared error\n",
    "    mse_sample = mean_squared_error(y_test, y_pred)\n",
    "    # append to np array\n",
    "    mse = np.append(mse, mse_sample)"
   ]
  },
  {
   "cell_type": "code",
   "execution_count": 10,
   "id": "34bf0a10",
   "metadata": {},
   "outputs": [
    {
     "name": "stdout",
     "output_type": "stream",
     "text": [
      "The mean for the mean squared error is: 454.58146209451775\n",
      "The standard deviation for the mean squared error is: 709.1830363478795\n"
     ]
    }
   ],
   "source": [
    "print('The mean for the mean squared error is:',mse.mean())\n",
    "print('The standard deviation for the mean squared error is:',mse.std())"
   ]
  },
  {
   "cell_type": "markdown",
   "id": "bb984e06",
   "metadata": {},
   "source": [
    "# Part 2"
   ]
  },
  {
   "cell_type": "code",
   "execution_count": 11,
   "id": "efdcca0c",
   "metadata": {},
   "outputs": [],
   "source": [
    "# normalize the data\n",
    "normalized_features = (features - features.mean()) / features.std()"
   ]
  },
  {
   "cell_type": "code",
   "execution_count": 12,
   "id": "e3ffadfb",
   "metadata": {},
   "outputs": [],
   "source": [
    "# create numpy array for thge mean squared error\n",
    "mse_norm = np.array([])\n",
    "# repeat the process 50 times\n",
    "for i in range(50):\n",
    "    # split the data into train and test this time with the normalized features\n",
    "    X_train, X_test, y_train, y_test = train_test_split(normalized_features, target,\n",
    "                                                        test_size=0.3)\n",
    "    # build fit and predict with the model\n",
    "    model = regression_model()\n",
    "    model.fit(X_train, y_train, epochs=50, verbose = 0)\n",
    "    y_pred = model.predict(X_test)\n",
    "    # calculate the mean squared error\n",
    "    mse_sample = mean_squared_error(y_test, y_pred)\n",
    "    # append to np array\n",
    "    mse_norm = np.append(mse_norm , mse_sample)"
   ]
  },
  {
   "cell_type": "code",
   "execution_count": 13,
   "id": "22ad274c",
   "metadata": {},
   "outputs": [
    {
     "name": "stdout",
     "output_type": "stream",
     "text": [
      "The mean for the mean squared error when normalized is: 386.35213955986234\n",
      "The standard deviation for the mean squared error when normalized is: 123.29635040625611\n"
     ]
    }
   ],
   "source": [
    "print('The mean for the mean squared error when normalized is:',mse_norm.mean())\n",
    "print('The standard deviation for the mean squared error when normalized is:',mse_norm.std())"
   ]
  },
  {
   "cell_type": "code",
   "execution_count": 14,
   "id": "fe10b45b",
   "metadata": {},
   "outputs": [],
   "source": [
    "# create results Dataframe\n",
    "results = pd.DataFrame({'Mean': [mse.mean(), mse_norm.mean()],\n",
    "              'STD': [mse.std(), mse_norm.std()]}, index=['Non-norm','Normalized'])"
   ]
  },
  {
   "cell_type": "code",
   "execution_count": 15,
   "id": "edb3223e",
   "metadata": {},
   "outputs": [
    {
     "data": {
      "text/html": [
       "<div>\n",
       "<style scoped>\n",
       "    .dataframe tbody tr th:only-of-type {\n",
       "        vertical-align: middle;\n",
       "    }\n",
       "\n",
       "    .dataframe tbody tr th {\n",
       "        vertical-align: top;\n",
       "    }\n",
       "\n",
       "    .dataframe thead th {\n",
       "        text-align: right;\n",
       "    }\n",
       "</style>\n",
       "<table border=\"1\" class=\"dataframe\">\n",
       "  <thead>\n",
       "    <tr style=\"text-align: right;\">\n",
       "      <th></th>\n",
       "      <th>Mean</th>\n",
       "      <th>STD</th>\n",
       "    </tr>\n",
       "  </thead>\n",
       "  <tbody>\n",
       "    <tr>\n",
       "      <th>Non-norm</th>\n",
       "      <td>454.581462</td>\n",
       "      <td>709.183036</td>\n",
       "    </tr>\n",
       "    <tr>\n",
       "      <th>Normalized</th>\n",
       "      <td>386.352140</td>\n",
       "      <td>123.296350</td>\n",
       "    </tr>\n",
       "  </tbody>\n",
       "</table>\n",
       "</div>"
      ],
      "text/plain": [
       "                  Mean         STD\n",
       "Non-norm    454.581462  709.183036\n",
       "Normalized  386.352140  123.296350"
      ]
     },
     "execution_count": 15,
     "metadata": {},
     "output_type": "execute_result"
    }
   ],
   "source": [
    "# look at results\n",
    "results"
   ]
  },
  {
   "cell_type": "markdown",
   "id": "bcbb1262",
   "metadata": {},
   "source": [
    "<h2>Observation </h2>\n",
    "As can be seen, the Mean of the Mean Squred Error is significanlty lower when the data is normalized, meaning that our models are more accurate.\n",
    "<br><br>\n",
    "So too, the Standard Deviation of the Mean Squred Error is much smaller, meaning our models are more consistent. "
   ]
  },
  {
   "cell_type": "markdown",
   "id": "f0d49772",
   "metadata": {},
   "source": [
    "# Part 3"
   ]
  },
  {
   "cell_type": "code",
   "execution_count": 16,
   "id": "28314f38",
   "metadata": {},
   "outputs": [],
   "source": [
    "# create numpy array for thge mean squared error\n",
    "mse_100e = np.array([])\n",
    "# repeat the process 50 times\n",
    "for i in range(50):\n",
    "    # split the data into train and test this time with the normalized features\n",
    "    X_train, X_test, y_train, y_test = train_test_split(normalized_features, target,\n",
    "                                                        test_size=0.3)\n",
    "    # build fit and predict with the model\n",
    "    model = regression_model()\n",
    "    # fit with 100 epochs\n",
    "    model.fit(X_train, y_train, epochs=100, verbose = 0)\n",
    "    y_pred = model.predict(X_test)\n",
    "    # calculate the mean squared error\n",
    "    mse_sample = mean_squared_error(y_test, y_pred)\n",
    "    # append to np array\n",
    "    mse_100e = np.append(mse_100e , mse_sample)"
   ]
  },
  {
   "cell_type": "code",
   "execution_count": 17,
   "id": "868e20e3",
   "metadata": {},
   "outputs": [],
   "source": [
    "# create Dataframe with 100 epochs\n",
    "epochs_100 = pd.DataFrame({'Mean': mse_100e.mean(),\n",
    "              'STD': mse_100e.std()}, index=['100 Epochs'])\n",
    "# append to results Dataframe\n",
    "results = results.append(epochs_100)"
   ]
  },
  {
   "cell_type": "code",
   "execution_count": 18,
   "id": "62caa503",
   "metadata": {},
   "outputs": [
    {
     "data": {
      "text/html": [
       "<div>\n",
       "<style scoped>\n",
       "    .dataframe tbody tr th:only-of-type {\n",
       "        vertical-align: middle;\n",
       "    }\n",
       "\n",
       "    .dataframe tbody tr th {\n",
       "        vertical-align: top;\n",
       "    }\n",
       "\n",
       "    .dataframe thead th {\n",
       "        text-align: right;\n",
       "    }\n",
       "</style>\n",
       "<table border=\"1\" class=\"dataframe\">\n",
       "  <thead>\n",
       "    <tr style=\"text-align: right;\">\n",
       "      <th></th>\n",
       "      <th>Mean</th>\n",
       "      <th>STD</th>\n",
       "    </tr>\n",
       "  </thead>\n",
       "  <tbody>\n",
       "    <tr>\n",
       "      <th>Non-norm</th>\n",
       "      <td>454.581462</td>\n",
       "      <td>709.183036</td>\n",
       "    </tr>\n",
       "    <tr>\n",
       "      <th>Normalized</th>\n",
       "      <td>386.352140</td>\n",
       "      <td>123.296350</td>\n",
       "    </tr>\n",
       "    <tr>\n",
       "      <th>100 Epochs</th>\n",
       "      <td>169.933014</td>\n",
       "      <td>28.235675</td>\n",
       "    </tr>\n",
       "  </tbody>\n",
       "</table>\n",
       "</div>"
      ],
      "text/plain": [
       "                  Mean         STD\n",
       "Non-norm    454.581462  709.183036\n",
       "Normalized  386.352140  123.296350\n",
       "100 Epochs  169.933014   28.235675"
      ]
     },
     "execution_count": 18,
     "metadata": {},
     "output_type": "execute_result"
    }
   ],
   "source": [
    "# look at results\n",
    "results"
   ]
  },
  {
   "cell_type": "markdown",
   "id": "ad3aa611",
   "metadata": {},
   "source": [
    "<h2>Observation </h2>\n",
    "As can be seen, the Mean of the Mean Squred Error is significanlty lower when 100 Epochs are used, meaning that our models are more accurate.\n",
    "<br><br>\n",
    "So too, the Standard Deviation of the Mean Squred Error is much smaller, meaning our models are more consistent."
   ]
  },
  {
   "cell_type": "markdown",
   "id": "f32ada60",
   "metadata": {},
   "source": [
    "# Part 4 "
   ]
  },
  {
   "cell_type": "code",
   "execution_count": 19,
   "id": "6161af17",
   "metadata": {},
   "outputs": [],
   "source": [
    "# create numpy array for thge mean squared error\n",
    "mse_3_layers = np.array([])\n",
    "# repeat the process 50 times\n",
    "for i in range(50):\n",
    "    # split the data into train and test this time with the normalized features\n",
    "    X_train, X_test, y_train, y_test = train_test_split(normalized_features, target,\n",
    "                                                        test_size=0.3)\n",
    "    # build fit and predict with the model with three hidden layers\n",
    "    model = regression_model(3)\n",
    "    model.fit(X_train, y_train, epochs=100, verbose = 0)\n",
    "    y_pred = model.predict(X_test)\n",
    "    # calculate the mean squared error\n",
    "    mse_sample = mean_squared_error(y_test, y_pred)\n",
    "    # append to np array\n",
    "    mse_3_layers = np.append(mse_3_layers , mse_sample)"
   ]
  },
  {
   "cell_type": "code",
   "execution_count": 20,
   "id": "bfbdd8ae",
   "metadata": {},
   "outputs": [],
   "source": [
    "# create Dataframe with 3 hidden layers\n",
    "three_layers = pd.DataFrame({'Mean': mse_3_layers.mean(),\n",
    "              'STD': mse_3_layers.std()}, index=['3 Hidden layers'])\n",
    "# append to results Dataframe\n",
    "results = results.append(three_layers)"
   ]
  },
  {
   "cell_type": "code",
   "execution_count": 21,
   "id": "55df03fe",
   "metadata": {},
   "outputs": [
    {
     "data": {
      "text/html": [
       "<div>\n",
       "<style scoped>\n",
       "    .dataframe tbody tr th:only-of-type {\n",
       "        vertical-align: middle;\n",
       "    }\n",
       "\n",
       "    .dataframe tbody tr th {\n",
       "        vertical-align: top;\n",
       "    }\n",
       "\n",
       "    .dataframe thead th {\n",
       "        text-align: right;\n",
       "    }\n",
       "</style>\n",
       "<table border=\"1\" class=\"dataframe\">\n",
       "  <thead>\n",
       "    <tr style=\"text-align: right;\">\n",
       "      <th></th>\n",
       "      <th>Mean</th>\n",
       "      <th>STD</th>\n",
       "    </tr>\n",
       "  </thead>\n",
       "  <tbody>\n",
       "    <tr>\n",
       "      <th>Non-norm</th>\n",
       "      <td>454.581462</td>\n",
       "      <td>709.183036</td>\n",
       "    </tr>\n",
       "    <tr>\n",
       "      <th>Normalized</th>\n",
       "      <td>386.352140</td>\n",
       "      <td>123.296350</td>\n",
       "    </tr>\n",
       "    <tr>\n",
       "      <th>100 Epochs</th>\n",
       "      <td>169.933014</td>\n",
       "      <td>28.235675</td>\n",
       "    </tr>\n",
       "    <tr>\n",
       "      <th>3 Hidden layers</th>\n",
       "      <td>87.030097</td>\n",
       "      <td>21.694391</td>\n",
       "    </tr>\n",
       "  </tbody>\n",
       "</table>\n",
       "</div>"
      ],
      "text/plain": [
       "                       Mean         STD\n",
       "Non-norm         454.581462  709.183036\n",
       "Normalized       386.352140  123.296350\n",
       "100 Epochs       169.933014   28.235675\n",
       "3 Hidden layers   87.030097   21.694391"
      ]
     },
     "execution_count": 21,
     "metadata": {},
     "output_type": "execute_result"
    }
   ],
   "source": [
    "# look at results\n",
    "results"
   ]
  },
  {
   "cell_type": "markdown",
   "id": "8777394d",
   "metadata": {},
   "source": [
    "<h2>Observation </h2>\n",
    "As can be seen, the Mean of the Mean Squred Error is significanlty lower when we use 3 hidden layers, meaning that our models are more accurate.\n",
    "<br><br>\n",
    "So too, the Standard Deviation of the Mean Squred Error is much smaller, meaning our models are more consistent."
   ]
  }
 ],
 "metadata": {
  "kernelspec": {
   "display_name": "Python 3 (ipykernel)",
   "language": "python",
   "name": "python3"
  },
  "language_info": {
   "codemirror_mode": {
    "name": "ipython",
    "version": 3
   },
   "file_extension": ".py",
   "mimetype": "text/x-python",
   "name": "python",
   "nbconvert_exporter": "python",
   "pygments_lexer": "ipython3",
   "version": "3.9.7"
  }
 },
 "nbformat": 4,
 "nbformat_minor": 5
}
